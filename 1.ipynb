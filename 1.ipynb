{
 "cells": [
  {
   "cell_type": "code",
   "execution_count": 217,
   "id": "3b5bfc77",
   "metadata": {},
   "outputs": [],
   "source": [
    "import numpy as np\n",
    "import pandas as pd\n",
    "import matplotlib.pyplot as plt \n",
    "import seaborn as sns\n",
    "import random"
   ]
  },
  {
   "cell_type": "code",
   "execution_count": 218,
   "id": "2763a1d7",
   "metadata": {},
   "outputs": [],
   "source": [
    "x_train = np.loadtxt('train_X.csv', delimiter = ',').T\n",
    "y_train = np.loadtxt('train_label.csv', delimiter = ',').T\n",
    "\n",
    "x_test = np.loadtxt('test_X.csv', delimiter = ',').T\n",
    "y_test = np.loadtxt('test_label.csv', delimiter = ',').T"
   ]
  },
  {
   "cell_type": "code",
   "execution_count": 219,
   "id": "ab19bb5d",
   "metadata": {},
   "outputs": [
    {
     "name": "stdout",
     "output_type": "stream",
     "text": [
      "Shape of x_train: (784, 1000)\n",
      "Shape of y_train: (10, 1000)\n",
      "Shape of x_test: (784, 350)\n",
      "Shape of y_test: (10, 350)\n"
     ]
    }
   ],
   "source": [
    "print(\"Shape of x_train:\", x_train.shape)\n",
    "print(\"Shape of y_train:\", y_train.shape)\n",
    "print(\"Shape of x_test:\", x_test.shape)\n",
    "print(\"Shape of y_test:\", y_test.shape)\n"
   ]
  },
  {
   "cell_type": "code",
   "execution_count": 220,
   "id": "13bcdeef",
   "metadata": {},
   "outputs": [
    {
     "data": {
      "image/png": "[encoded data removed]",
      "text/plain": [
       "<Figure size 640x480 with 1 Axes>"
      ]
     },
     "metadata": {},
     "output_type": "display_data"
    }
   ],
   "source": [
    "index = random.randrange(0, x_train.shape[1])\n",
    "plt.imshow(x_train[:, index].reshape(28, 28), cmap = 'gray')\n",
    "plt.show()"
   ]
  },
  {
   "cell_type": "markdown",
   "id": "6273c4ed",
   "metadata": {},
   "source": [
    "# Model\n",
    "\n",
    "![nn](Images/2.png)\n",
    "\n",
    "## Initialize parameters Randomly\n",
    "$ W_1 = np.random.randn(n_1, n_0) $\n",
    "\n",
    "$ b_1 = np.zeros((n_1, 1))$\n",
    "\n",
    "$ W_2 = np.random.randn(n_2, n_1) $\n",
    "\n",
    "$ b_2 = np.zeros((n_2, 1))$\n"
   ]
  },
  {
   "cell_type": "code",
   "execution_count": 221,
   "id": "255f5d0e",
   "metadata": {},
   "outputs": [],
   "source": [
    "def tanh(x):\n",
    "    return np.tanh(x)\n",
    "\n",
    "def relu(x):\n",
    "    return np.maximum(x, 0)\n",
    "\n",
    "def softmax(x):\n",
    "    expX = np.exp(x)\n",
    "    return expX/np.sum(expX, axis = 0)"
   ]
  },
  {
   "cell_type": "code",
   "execution_count": 222,
   "id": "145b1344",
   "metadata": {},
   "outputs": [],
   "source": [
    "def derivative_tanh(x):\n",
    "    return (1 - np.power(x, 2))\n",
    "\n",
    "def derivative_relu(x):\n",
    "    return (np.array(x > 0, dtype= np.float32))"
   ]
  },
  {
   "cell_type": "markdown",
   "id": "bd0c26dd",
   "metadata": {},
   "source": [
    "## Khoi tao tham so"
   ]
  },
  {
   "cell_type": "code",
   "execution_count": 223,
   "id": "c7a94f4f",
   "metadata": {},
   "outputs": [],
   "source": [
    "def initialize_parameters(n_x, n_h, n_y):\n",
    "    w1 = np.random.randn(n_h, n_x)*0.01\n",
    "    b1 = np.zeros((n_h, 1))\n",
    "    \n",
    "    w2 = np.random.randn(n_y, n_h)*0.01\n",
    "    b2 = np.zeros((n_y, 1))\n",
    "    \n",
    "    parameters = {\n",
    "        \"w1\" : w1,\n",
    "        \"b1\" : b1,\n",
    "        \"w2\" : w2,\n",
    "        \"b2\" : b2\n",
    "    }\n",
    "    \n",
    "    return parameters"
   ]
  },
  {
   "cell_type": "markdown",
   "id": "58e044c8",
   "metadata": {},
   "source": [
    "## Truyen tham so "
   ]
  },
  {
   "cell_type": "code",
   "execution_count": 224,
   "id": "ac07c53f",
   "metadata": {},
   "outputs": [],
   "source": [
    "def forward_propagation(x, parameters):\n",
    "    \n",
    "    w1 = parameters['w1']\n",
    "    b1 = parameters['b1']\n",
    "    w2 = parameters['w2']\n",
    "    b2 = parameters['b2']\n",
    "    \n",
    "    z1 = np.dot(w1, x) + b1\n",
    "    a1 = tanh(z1)\n",
    "    \n",
    "    z2 = np.dot(w2, a1) + b2\n",
    "    a2 = softmax(z2)\n",
    "    \n",
    "    forward_cache = {\n",
    "        \"z1\" : z1,\n",
    "        \"a1\" : a1,\n",
    "        \"z2\" : z2,\n",
    "        \"a2\" : a2\n",
    "    }\n",
    "    \n",
    "    return forward_cache"
   ]
  },
  {
   "cell_type": "markdown",
   "id": "9610ae0d",
   "metadata": {},
   "source": [
    "## Loss Function"
   ]
  },
  {
   "cell_type": "code",
   "execution_count": 225,
   "id": "19b07630",
   "metadata": {},
   "outputs": [],
   "source": [
    "def const_loss(a2, y):\n",
    "    m = y.shape[1]\n",
    "    cost = - (1/m) * np.sum(y * np.log(a2 + 1e-8)) \n",
    "    return cost\n"
   ]
  },
  {
   "cell_type": "markdown",
   "id": "71a50257",
   "metadata": {},
   "source": [
    "## Dao ham "
   ]
  },
  {
   "cell_type": "code",
   "execution_count": 226,
   "id": "dee6b9be",
   "metadata": {},
   "outputs": [],
   "source": [
    "def backward_prop(x, y, parameters, forward_cache):\n",
    "    w1 = parameters['w1']\n",
    "    b1 = parameters['b1']\n",
    "    w2 = parameters['w2']\n",
    "    b2 = parameters['b2']\n",
    "    \n",
    "    a1 = forward_cache['a1']\n",
    "    a2 = forward_cache['a2']\n",
    "    \n",
    "    m = x.shape[1]\n",
    "    \n",
    "    dz2 = a2 - y\n",
    "    dw2 = (1/m) * np.dot(dz2, a1.T)\n",
    "    db2 = (1/m) * np.sum(dz2, axis=1, keepdims=True)\n",
    "    \n",
    "    dz1 = np.dot(w2.T, dz2) * derivative_tanh(a1)\n",
    "    dw1 = (1/m) * np.dot(dz1, x.T)\n",
    "    db1 = (1/m) * np.sum(dz1, axis=1, keepdims=True)\n",
    "    \n",
    "    gradients = {\n",
    "        \"dw1\": dw1,\n",
    "        \"db1\": db1,\n",
    "        \"dw2\": dw2,\n",
    "        \"db2\": db2\n",
    "    }\n",
    "    \n",
    "    return gradients\n"
   ]
  },
  {
   "cell_type": "code",
   "execution_count": 227,
   "id": "fdbe5642",
   "metadata": {},
   "outputs": [],
   "source": [
    "def update_parameters(parameters, gradients, learning_rate):\n",
    "    \n",
    "    w1 = parameters['w1']\n",
    "    b1 = parameters['b1']\n",
    "    w2 = parameters['w2']\n",
    "    b2 = parameters['b2']\n",
    "    \n",
    "    dw1 = gradients['dw1']\n",
    "    db1 = gradients['db1']\n",
    "    dw2 = gradients['dw2']\n",
    "    db2 = gradients['db2']\n",
    "    \n",
    "    w1 = w1 - learning_rate*dw1\n",
    "    b1 = b1 - learning_rate*db1\n",
    "    w2 = w2 - learning_rate*dw2\n",
    "    b2 = b2 - learning_rate*db2\n",
    "    \n",
    "    parameters = {\n",
    "        \"w1\" : w1,\n",
    "        \"b1\" : b1,\n",
    "        \"w2\" : w2,\n",
    "        \"b2\" : b2\n",
    "    }\n",
    "    \n",
    "    return parameters"
   ]
  },
  {
   "cell_type": "markdown",
   "id": "97b18d31",
   "metadata": {},
   "source": [
    "## 🧠 Hàm `model(x, y, n_h, learning_rate, iterations)` — Huấn luyện mạng nơ-ron đơn giản\n",
    "\n",
    "Hàm `model` thực hiện huấn luyện một mạng nơ-ron với một lớp ẩn (1 hidden layer) theo thuật toán **Gradient Descent**. Dưới đây là giải thích từng phần của hàm.\n",
    "\n",
    "---\n",
    "\n",
    "### 🔢 **Tham số đầu vào**\n",
    "- `x`: Ma trận đầu vào, kích thước `(n_x, m)`, trong đó:\n",
    "  - `n_x`: số đặc trưng (features)\n",
    "  - `m`: số lượng mẫu huấn luyện\n",
    "- `y`: Nhãn thực tế, kích thước `(n_y, m)`\n",
    "- `n_h`: Số lượng neuron trong lớp ẩn\n",
    "- `learning_rate`: Tốc độ học (hệ số cập nhật trong Gradient Descent)\n",
    "- `iterations`: Số lần lặp để huấn luyện mô hình\n",
    "\n",
    "---\n",
    "\n",
    "### 🔄 **Quy trình huấn luyện**\n",
    "\n",
    "```python\n",
    "n_x = x.shape[0]\n",
    "n_y = y.shape[0]\n"
   ]
  },
  {
   "cell_type": "code",
   "execution_count": 228,
   "id": "ec0e036f",
   "metadata": {},
   "outputs": [],
   "source": [
    "def model(x, y, n_h, learning_rate, iterations):\n",
    "    \n",
    "    n_x = x.shape[0]\n",
    "    n_y = y.shape[0]\n",
    "    \n",
    "    cost_list = []\n",
    "    \n",
    "    parameters = initialize_parameters(n_x, n_h, n_y)\n",
    "    \n",
    "    for i in range(iterations):\n",
    "        \n",
    "        forward_cache = forward_propagation(x, parameters)\n",
    "        \n",
    "        cost = cost_function(forward_cache['a2'], y)\n",
    "        \n",
    "        gradients = backward_prop(x, y, parameters, forward_cache)\n",
    "        \n",
    "        parameters = update_parameters(parameters, gradients, learning_rate)\n",
    "        \n",
    "        cost_list.append(cost)\n",
    "        \n",
    "        if(i%(iterations/10) == 0):\n",
    "            print(\"Cost after\", i, \"iterations is :\", cost)\n",
    "        \n",
    "    return parameters, cost_list"
   ]
  },
  {
   "cell_type": "code",
   "execution_count": 229,
   "id": "25a4f934",
   "metadata": {},
   "outputs": [
    {
     "name": "stdout",
     "output_type": "stream",
     "text": [
      "Cost after 0 iterations is : 2.389298915695862\n",
      "Cost after 10 iterations is : 0.6649297799713354\n",
      "Cost after 20 iterations is : 0.37433298865907033\n",
      "Cost after 30 iterations is : 0.2515293415745804\n",
      "Cost after 40 iterations is : 0.18888679083263415\n",
      "Cost after 50 iterations is : 0.15212003357699735\n",
      "Cost after 60 iterations is : 0.12769688837512863\n",
      "Cost after 70 iterations is : 0.1101083366058156\n",
      "Cost after 80 iterations is : 0.09655647183683093\n",
      "Cost after 90 iterations is : 0.08591118756134468\n"
     ]
    }
   ],
   "source": [
    "iterations = 100\n",
    "n_h = 1000\n",
    "learning_rate = 0.02\n",
    "Parameters, Cost_list = model(x_train, y_train, n_h = n_h, learning_rate = learning_rate, iterations = iterations)"
   ]
  },
  {
   "cell_type": "code",
   "execution_count": 230,
   "id": "9a306f83",
   "metadata": {},
   "outputs": [
    {
     "data": {
      "image/png": "[encoded data removed]",
      "text/plain": [
       "<Figure size 640x480 with 1 Axes>"
      ]
     },
     "metadata": {},
     "output_type": "display_data"
    }
   ],
   "source": [
    "t = np.arange(0, iterations)\n",
    "plt.plot(t, Cost_list)\n",
    "plt.show()"
   ]
  },
  {
   "cell_type": "code",
   "execution_count": 231,
   "id": "7930883b",
   "metadata": {},
   "outputs": [],
   "source": [
    "def accuracy(inp, labels, parameters):\n",
    "    forward_cache = forward_propagation(inp, parameters)\n",
    "    a_out = forward_cache['a2']  \n",
    "    \n",
    "    a_out = np.argmax(a_out, 0)  \n",
    "    \n",
    "    labels = np.argmax(labels, 0)\n",
    "    \n",
    "    acc = np.mean(a_out == labels)*100\n",
    "    \n",
    "    return acc"
   ]
  },
  {
   "cell_type": "code",
   "execution_count": 232,
   "id": "d01c50b6",
   "metadata": {},
   "outputs": [
    {
     "name": "stdout",
     "output_type": "stream",
     "text": [
      "Accuracy of Train Dataset 99.8 %\n",
      "Accuracy of Test Dataset 86.0 %\n"
     ]
    }
   ],
   "source": [
    "print(\"Accuracy of Train Dataset\", accuracy(x_train, y_train, Parameters), \"%\")\n",
    "print(\"Accuracy of Test Dataset\", round(accuracy(x_test, y_test, Parameters), 2), \"%\")"
   ]
  },
  {
   "cell_type": "code",
   "execution_count": 233,
   "id": "ee9600de",
   "metadata": {},
   "outputs": [
    {
     "data": {
      "image/png": "[encoded data removed]",
      "text/plain": [
       "<Figure size 640x480 with 1 Axes>"
      ]
     },
     "metadata": {},
     "output_type": "display_data"
    },
    {
     "name": "stdout",
     "output_type": "stream",
     "text": [
      "Our model says it is : 5\n"
     ]
    }
   ],
   "source": [
    "idx = int(random.randrange(0,x_test.shape[1]))\n",
    "plt.imshow(x_test[:, idx].reshape((28,28)),cmap='gray')\n",
    "plt.show()\n",
    "\n",
    "cache = forward_propagation(x_test[:, idx].reshape(x_test[:, idx].shape[0], 1), Parameters)\n",
    "a_pred = cache['a2']  \n",
    "a_pred = np.argmax(a_pred, 0)\n",
    "\n",
    "print(\"Our model says it is :\", a_pred[0])"
   ]
  },
  {
   "cell_type": "code",
   "execution_count": null,
   "id": "e4302cea",
   "metadata": {},
   "outputs": [],
   "source": []
  }
 ],
 "metadata": {
  "kernelspec": {
   "display_name": "venv",
   "language": "python",
   "name": "python3"
  },
  "language_info": {
   "codemirror_mode": {
    "name": "ipython",
    "version": 3
   },
   "file_extension": ".py",
   "mimetype": "text/x-python",
   "name": "python",
   "nbconvert_exporter": "python",
   "pygments_lexer": "ipython3",
   "version": "3.12.7"
  }
 },
 "nbformat": 4,
 "nbformat_minor": 5
}
